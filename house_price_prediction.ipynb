{
  "nbformat": 4,
  "nbformat_minor": 0,
  "metadata": {
    "colab": {
      "name": "house_price_prediction.ipynb",
      "provenance": [],
      "collapsed_sections": [],
      "authorship_tag": "ABX9TyPekAzPJ7qER4r7wIqPENan",
      "include_colab_link": true
    },
    "kernelspec": {
      "name": "python3",
      "display_name": "Python 3"
    },
    "language_info": {
      "name": "python"
    },
    "gpuClass": "standard"
  },
  "cells": [
    {
      "cell_type": "markdown",
      "metadata": {
        "id": "view-in-github",
        "colab_type": "text"
      },
      "source": [
        "<a href=\"https://colab.research.google.com/github/NguyenThinhDatEng/Deep_Learning/blob/master/house_price_prediction.ipynb\" target=\"_parent\"><img src=\"https://colab.research.google.com/assets/colab-badge.svg\" alt=\"Open In Colab\"/></a>"
      ]
    },
    {
      "cell_type": "code",
      "source": [
        "import numpy as np\n",
        "import pandas as pd\n",
        "import matplotlib.pyplot as plt"
      ],
      "metadata": {
        "id": "JZQDVLwoff78"
      },
      "execution_count": 3,
      "outputs": []
    },
    {
      "cell_type": "code",
      "source": [
        "# generate data\n",
        "# numOfPoints = 30\n",
        "# noise = np.random.normal(0,1,numOfPoints).reshape(-1, 1)\n",
        "# x = np.linspace(30, 100, numOfPoints).reshape(-1, 1)\n",
        "# N = x.shape[0]\n",
        "# y = 15 * x + 8 + 20 * noise\n",
        "# plt.scatter(x, y)\n",
        "\n",
        "data = pd.read_csv('data_linear.csv').values\n",
        "N = data.shape[0]\n",
        "x = data[:, 0].reshape(-1, 1)\n",
        "y = data[:, 1].reshape(-1, 1)\n",
        "plt.scatter(x,y)\n",
        "plt.xlabel('m^2')\n",
        "plt.ylabel('price')\n",
        "\n",
        "x = np.hstack((np.ones((N, 1)), x))\n",
        "\n",
        "w = np.array ([0., 1.]).reshape(-1, 1)\n",
        "\n",
        "numOfIteration = 100\n",
        "cost = np.zeros((numOfIteration, 1))\n",
        "learning_rate = 0.000001 # learning rate\n",
        "for i in range(1, numOfIteration):\n",
        "  r = np.dot(x, w) - y\n",
        "  cost[i] = 0.5 * np.sum(r * r)\n",
        "  w[0] -= learning_rate * np.sum(r)\n",
        "  # correct the shape dimension\n",
        "  w[1] -= learning_rate * np.sum(np.multiply(r, x[:, 1].reshape(-1, 1)))\n",
        "  print(cost[i])\n",
        "predict = np.dot(x, w)\n",
        "plt.plot((x[0][1], x[N - 1][1], (predict[0], predict[N - 1], 'r')))\n",
        "plt.show()"
      ],
      "metadata": {
        "id": "nuhVrWUAveUZ"
      },
      "execution_count": null,
      "outputs": []
    },
    {
      "cell_type": "code",
      "source": [
        "# run model\n",
        "x1 = 50\n",
        "y1 = w[0] + w[1] * x1\n",
        "print('The price for 50 m^2 is: ', y1)"
      ],
      "metadata": {
        "id": "HyAvtOys5XOG"
      },
      "execution_count": null,
      "outputs": []
    },
    {
      "cell_type": "code",
      "source": [
        "# save w with numpy.save(), format '.npy'\n",
        "np.save('weight.npy', w)\n",
        "# read file '.npy' contains weight parameter\n",
        "w = np.load('weight.npy')"
      ],
      "metadata": {
        "id": "ljytrNj45o-g"
      },
      "execution_count": null,
      "outputs": []
    },
    {
      "cell_type": "code",
      "source": [
        "# LinearRegression with sklearn libary\n",
        "from sklearn.linear_model import LinearRegression\n",
        "\n",
        "data = pd.read_csv('data_linear.csv').values\n",
        "x = data[:, 0].reshape(-1, 1)\n",
        "y = data[:, 1].reshape(-1, 1)\n",
        "\n",
        "plt.scatter(x, y)\n",
        "plt.xlabel('m^2')\n",
        "plt.ylabel('price')\n",
        "\n",
        "# create linear regression model\n",
        "lrg = LinearRegression()\n",
        "# train\n",
        "lrg.fit(x, y)\n",
        "# predict\n",
        "y_pred = lrg.predict(x)\n",
        "\n",
        "plt.plot((x[0], x[-1]), (y_pred[0], y_pred[-1]), 'r')\n",
        "plt.show()"
      ],
      "metadata": {
        "id": "8qs4g8DL6KC8"
      },
      "execution_count": null,
      "outputs": []
    },
    {
      "cell_type": "code",
      "source": [
        "# save many parameters with numpy.savez(), format '.npz'\n",
        "np.savez('w2.npz', a=lrg.intercept_, b=lrg.coef_)\n",
        "# get back the parameters in file .npz\n",
        "k = np.load('w2.npz')\n",
        "lrg.intercept_ = k['a']\n",
        "lrg.coef_ = k['b']"
      ],
      "metadata": {
        "id": "s5wGe_wC6m5r"
      },
      "execution_count": null,
      "outputs": []
    }
  ]
}