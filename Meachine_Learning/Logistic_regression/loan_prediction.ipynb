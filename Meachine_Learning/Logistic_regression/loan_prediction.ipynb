{
  "nbformat": 4,
  "nbformat_minor": 0,
  "metadata": {
    "colab": {
      "name": " loan_prediction.ipynb",
      "provenance": [],
      "collapsed_sections": [],
      "authorship_tag": "ABX9TyMV3dwMRKaLS3smS4DFhXOE",
      "include_colab_link": true
    },
    "kernelspec": {
      "name": "python3",
      "display_name": "Python 3"
    },
    "language_info": {
      "name": "python"
    },
    "gpuClass": "standard"
  },
  "cells": [
    {
      "cell_type": "markdown",
      "metadata": {
        "id": "view-in-github",
        "colab_type": "text"
      },
      "source": [
        "<a href=\"https://colab.research.google.com/github/NguyenThinhDatEng/Deep_Learning/blob/master/Meachine_Learning/Logistic_regression/loan_prediction.ipynb\" target=\"_parent\"><img src=\"https://colab.research.google.com/assets/colab-badge.svg\" alt=\"Open In Colab\"/></a>"
      ]
    },
    {
      "cell_type": "code",
      "execution_count": 2,
      "metadata": {
        "id": "pDftGAyxFCrZ"
      },
      "outputs": [],
      "source": [
        "# add libaries\n",
        "import numpy as np\n",
        "import pandas as pd\n",
        "import matplotlib.pyplot as plt"
      ]
    },
    {
      "cell_type": "code",
      "source": [
        "# sigmoid function\n",
        "def sigmoid(x):\n",
        "  return 1 / (1 + np.exp(-x))"
      ],
      "metadata": {
        "id": "BdByx2teFRr6"
      },
      "execution_count": 3,
      "outputs": []
    },
    {
      "cell_type": "code",
      "source": [
        "# load data from file csv\n",
        "url = 'https://raw.githubusercontent.com/nttuan8/DL_Tutorial/master/L2/dataset.csv'\n",
        "data = pd.read_csv(url).values\n",
        "# algo\n",
        "N, d = data.shape\n",
        "x = data[:, 0:d-1].reshape(-1, d - 1)\n",
        "y = data[:, 2].reshape(-1, 1)"
      ],
      "metadata": {
        "id": "uNxzym27Fd90"
      },
      "execution_count": 4,
      "outputs": []
    },
    {
      "cell_type": "code",
      "source": [
        "# draw data by scatter\n",
        "plt.scatter(x[:10, 0], x[:10, 1], c='red', edgecolors='none', s=30, label='loan')\n",
        "plt.scatter(x[10:, 0], x[10:, 1], c='blue', edgecolors='none', s=30, label='refuse')\n",
        "plt.legend(loc=1)\n",
        "plt.xlabel('wage (millions)')\n",
        "plt.ylabel('experience (years)')"
      ],
      "metadata": {
        "colab": {
          "base_uri": "https://localhost:8080/",
          "height": 296
        },
        "id": "FYHk9l83IUG3",
        "outputId": "fb3cdeba-da6c-484c-baed-5a5c11613348"
      },
      "execution_count": 5,
      "outputs": [
        {
          "output_type": "execute_result",
          "data": {
            "text/plain": [
              "Text(0, 0.5, 'experience (years)')"
            ]
          },
          "metadata": {},
          "execution_count": 5
        },
        {
          "output_type": "display_data",
          "data": {
            "text/plain": [
              "<Figure size 432x288 with 1 Axes>"
            ],
            "image/png": "[encoded data removed]"
          },
          "metadata": {
            "needs_background": "light"
          }
        }
      ]
    },
    {
      "cell_type": "code",
      "source": [
        "# add column 1 to data x\n",
        "x = np.hstack((np.ones((N, 1)), x))\n",
        "\n",
        "w = np.array([0., 0.1, 0.1]).reshape(-1, 1)\n",
        "\n",
        "# number of iterations step 2\n",
        "numOfIterations = 1000\n",
        "cost = np.zeros((numOfIterations, 1))\n",
        "learning_rate = 0.01\n",
        "\n",
        "for i in range(1, numOfIterations):\n",
        "  # calculate the predict value\n",
        "  y_predict = sigmoid(np.dot(x, w))\n",
        "  cost[i] = -np.sum(np.multiply(y, np.log(y_predict)) + \\\n",
        "                    np.multiply(1 - y, np.log(1 - y_predict)))\n",
        "  # Gradient descent\n",
        "  w = w - learning_rate * np.dot(x.T, y_predict - y)\n",
        "  print(cost[i])"
      ],
      "metadata": {
        "id": "eyekT4YkJ_zo"
      },
      "execution_count": null,
      "outputs": []
    },
    {
      "cell_type": "code",
      "source": [
        "# draw dividing line\n",
        "t = 0.5\n",
        "plt.plot((4, 10), (-(w[0] + 4 * w[1] + np.log(1/t - 1))/w[2], -(w[0] + 10 * w[1] + np.log(1/t-1))/w[2]), 'g')\n",
        "plt.show()"
      ],
      "metadata": {
        "colab": {
          "base_uri": "https://localhost:8080/",
          "height": 265
        },
        "id": "pQd2N4m0MCCG",
        "outputId": "6b13ad21-53bf-481f-d2b0-fc4a29909816"
      },
      "execution_count": 16,
      "outputs": [
        {
          "output_type": "display_data",
          "data": {
            "text/plain": [
              "<Figure size 432x288 with 1 Axes>"
            ],
            "image/png": "[encoded data removed]"
          },
          "metadata": {
            "needs_background": "light"
          }
        }
      ]
    },
    {
      "cell_type": "code",
      "source": [
        "# save weight, format '.npy'\n",
        "np.save('weight logistic.npy', w)\n",
        "# load weight from file '.npy'\n",
        "w = np.load('weight logistic.npy')"
      ],
      "metadata": {
        "id": "Qm4naqfyP8Nn"
      },
      "execution_count": 19,
      "outputs": []
    },
    {
      "cell_type": "code",
      "source": [
        "# Logistic Regression by sklearn libary\n",
        "from sklearn.linear_model import LogisticRegression"
      ],
      "metadata": {
        "id": "7H1UhZ_7P6TB"
      },
      "execution_count": 20,
      "outputs": []
    },
    {
      "cell_type": "code",
      "source": [
        "# load data from file csv\n",
        "url = 'https://raw.githubusercontent.com/nttuan8/DL_Tutorial/master/L2/dataset.csv'\n",
        "data = pd.read_csv(url).values\n",
        "# algo\n",
        "N, d = data.shape\n",
        "x = data[:, 0:d-1].reshape(-1, d - 1)\n",
        "y = data[:, 2].reshape(-1, 1)"
      ],
      "metadata": {
        "id": "HxxUw2MFP6ly"
      },
      "execution_count": 21,
      "outputs": []
    },
    {
      "cell_type": "code",
      "source": [
        "# draw data by scatter\n",
        "plt.scatter(x[:10, 0], x[:10, 1], c='red', edgecolors='none', s=30, label='loan')\n",
        "plt.scatter(x[10:, 0], x[10:, 1], c='blue', edgecolors='none', s=30, label='refuse')\n",
        "plt.legend(loc=1)\n",
        "plt.xlabel('wage (millions)')\n",
        "plt.ylabel('experience (years)')"
      ],
      "metadata": {
        "colab": {
          "base_uri": "https://localhost:8080/",
          "height": 296
        },
        "id": "YcQj1gxEP6rc",
        "outputId": "8c1dd65c-7549-48db-a6e8-01c435b08e99"
      },
      "execution_count": 22,
      "outputs": [
        {
          "output_type": "execute_result",
          "data": {
            "text/plain": [
              "Text(0, 0.5, 'experience (years)')"
            ]
          },
          "metadata": {},
          "execution_count": 22
        },
        {
          "output_type": "display_data",
          "data": {
            "text/plain": [
              "<Figure size 432x288 with 1 Axes>"
            ],
            "image/png": "[encoded data removed]"
          },
          "metadata": {
            "needs_background": "light"
          }
        }
      ]
    },
    {
      "cell_type": "code",
      "source": [
        "# create model Logistic Regression and train\n",
        "logreg = LogisticRegression()\n",
        "logreg.fit(x, y)\n",
        "\n",
        "# save this model to array\n",
        "wg = np.zeros((3, 1))\n",
        "wg[0, 0] = logreg.intercept_\n",
        "wg[1:, 0] = logreg.coef_"
      ],
      "metadata": {
        "colab": {
          "base_uri": "https://localhost:8080/"
        },
        "id": "4uFkyZo_P6wb",
        "outputId": "61ca1f3f-baa8-43f4-925f-8dbf95ecf9b9"
      },
      "execution_count": 26,
      "outputs": [
        {
          "output_type": "stream",
          "name": "stderr",
          "text": [
            "/usr/local/lib/python3.7/dist-packages/sklearn/utils/validation.py:993: DataConversionWarning: A column-vector y was passed when a 1d array was expected. Please change the shape of y to (n_samples, ), for example using ravel().\n",
            "  y = column_or_1d(y, warn=True)\n"
          ]
        }
      ]
    },
    {
      "cell_type": "code",
      "source": [
        "# draw dividing line\n",
        "t = 0.5\n",
        "plt.plot((4, 10), (-(w[0] + 4 * w[1] + np.log(1/t - 1))/w[2], -(w[0] + 10 * w[1] + np.log(1/t-1))/w[2]), 'g')\n",
        "plt.show()"
      ],
      "metadata": {
        "colab": {
          "base_uri": "https://localhost:8080/",
          "height": 265
        },
        "id": "NgAx90u8VIJM",
        "outputId": "2660930c-a270-4f7a-aaaf-f7c84aa64886"
      },
      "execution_count": 27,
      "outputs": [
        {
          "output_type": "display_data",
          "data": {
            "text/plain": [
              "<Figure size 432x288 with 1 Axes>"
            ],
            "image/png": "[encoded data removed]"
          },
          "metadata": {
            "needs_background": "light"
          }
        }
      ]
    },
    {
      "cell_type": "code",
      "source": [
        "# save the parameters, format '.npz'\n",
        "np.savez('w logistic.npz', a=logreg.intercept_, b=logreg.coef_)\n",
        "# load the parameters\n",
        "k = np.load('w logistic.npz')\n",
        "logreg.intercept_ = k['a']\n",
        "logreg.coef_=k['b']"
      ],
      "metadata": {
        "id": "rgSNAXRQVjhD"
      },
      "execution_count": 28,
      "outputs": []
    }
  ]
}